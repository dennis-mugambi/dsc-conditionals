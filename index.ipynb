{
  "cells": [
    {
      "cell_type": "markdown",
      "metadata": {
        "id": "view-in-github",
        "colab_type": "text"
      },
      "source": [
        "<a href=\"https://colab.research.google.com/github/dennis-mugambi/dsc-conditionals/blob/master/index.ipynb\" target=\"_parent\"><img src=\"https://colab.research.google.com/assets/colab-badge.svg\" alt=\"Open In Colab\"/></a>"
      ]
    },
    {
      "cell_type": "markdown",
      "metadata": {
        "id": "Z49LZHGSPUdQ"
      },
      "source": [
        "# Working with Lists\n",
        "\n",
        "## Introduction\n",
        "So far, we have worked with individual pieces of data like the string 'hello'. In this lesson, we'll see how we can group pieces of data together using lists.\n",
        "\n",
        "## Objectives\n",
        "\n",
        "You will be able to:\n",
        "\n",
        "* Use indexing to access elements in a list\n",
        "* Apply list methods to make changes to a list\n",
        "* Change elements of a list\n",
        "\n",
        "## What Are Lists?\n",
        "\n",
        "A list is our first form of a collection. A collection is just a way of grouping multiple pieces of data together. For example, let's consider the top cities for travel according to the magazine Travel and Leisure. Here is how we usually see a list of travel locations in a document or on a website.\n",
        "\n",
        "#### Travel Locations\n",
        "1. Solta\n",
        "2. Greenville\n",
        "3. Buenos Aires\n",
        "4. Los Cabos\n",
        "5. Walla Walla Valley\n",
        "6. Marakesh\n",
        "7. Albuquerque\n",
        "8. Archipelago Sea\n",
        "9. Iguazu Falls\n",
        "10. Salina Island\n",
        "11. Toronto\n",
        "12. Pyeongchang\n",
        "\n",
        "Here is what that list looks like as a Python `list`:"
      ]
    },
    {
      "cell_type": "markdown",
      "source": [
        "Use indexing to access elements in a list. Before we do that, we need to understand what a list is. Below is an example of a list:\n",
        "### Create a list with the varable name list_examples\n",
        "### A list contains strings, integers, floats\n",
        "###A list has square brackest"
      ],
      "metadata": {
        "id": "4NP2vZeUf5zj"
      }
    },
    {
      "cell_type": "markdown",
      "source": [],
      "metadata": {
        "id": "A1q2Q4YChNDt"
      }
    },
    {
      "cell_type": "code",
      "source": [
        "list_examples = [\"fantastic\" , \"my name is Dennis\" , \"3\"]"
      ],
      "metadata": {
        "id": "2UOZz-L3gJSw"
      },
      "execution_count": 46,
      "outputs": []
    },
    {
      "cell_type": "code",
      "source": [],
      "metadata": {
        "id": "Tz6A1zgihzE_"
      },
      "execution_count": 46,
      "outputs": []
    },
    {
      "cell_type": "markdown",
      "source": [
        "###when using indexing remember the first item is 0"
      ],
      "metadata": {
        "id": "iukEJ8-Gh1Pm"
      }
    },
    {
      "cell_type": "code",
      "source": [
        "#print out the first indexing\n",
        "friends = [\"ian\" ,\"vinnie\" , \"dennis\"]\n",
        "friends[1]\n"
      ],
      "metadata": {
        "id": "vLM9qDpikYx6",
        "outputId": "af566865-35b9-465a-e8f0-1dda561a99d4",
        "colab": {
          "base_uri": "https://localhost:8080/",
          "height": 35
        }
      },
      "execution_count": 47,
      "outputs": [
        {
          "output_type": "execute_result",
          "data": {
            "text/plain": [
              "'vinnie'"
            ],
            "application/vnd.google.colaboratory.intrinsic+json": {
              "type": "string"
            }
          },
          "metadata": {},
          "execution_count": 47
        }
      ]
    },
    {
      "cell_type": "code",
      "source": [
        "friends.pop()"
      ],
      "metadata": {
        "id": "gdtiw7tTmdE4",
        "outputId": "aeb229c9-ecf0-4739-e4e9-45ed469ce69d",
        "colab": {
          "base_uri": "https://localhost:8080/",
          "height": 35
        }
      },
      "execution_count": 48,
      "outputs": [
        {
          "output_type": "execute_result",
          "data": {
            "text/plain": [
              "'dennis'"
            ],
            "application/vnd.google.colaboratory.intrinsic+json": {
              "type": "string"
            }
          },
          "metadata": {},
          "execution_count": 48
        }
      ]
    },
    {
      "cell_type": "code",
      "source": [
        "friends.append(\"lewis\")"
      ],
      "metadata": {
        "id": "UAfPCBydo5sS"
      },
      "execution_count": 49,
      "outputs": []
    },
    {
      "cell_type": "code",
      "source": [
        "friends"
      ],
      "metadata": {
        "id": "HBqCCurnpKs7",
        "outputId": "1c19b326-39b6-4c6b-c355-b753e734462f",
        "colab": {
          "base_uri": "https://localhost:8080/"
        }
      },
      "execution_count": 50,
      "outputs": [
        {
          "output_type": "execute_result",
          "data": {
            "text/plain": [
              "['ian', 'vinnie', 'lewis']"
            ]
          },
          "metadata": {},
          "execution_count": 50
        }
      ]
    },
    {
      "cell_type": "markdown",
      "source": [],
      "metadata": {
        "id": "iotbDmeih0Ld"
      }
    },
    {
      "cell_type": "code",
      "execution_count": 51,
      "metadata": {
        "id": "YCXDD9yAPUdS",
        "outputId": "1b540db0-a4f3-432f-dc4d-7ca7b7330e39",
        "colab": {
          "base_uri": "https://localhost:8080/"
        }
      },
      "outputs": [
        {
          "output_type": "execute_result",
          "data": {
            "text/plain": [
              "['Solta',\n",
              " 'Greenville',\n",
              " 'Buenos Aires',\n",
              " 'Los Cabos',\n",
              " 'Walla Walla Valley',\n",
              " 'Marakesh',\n",
              " 'Albuquerque',\n",
              " 'Archipelago Sea',\n",
              " 'Iguazu Falls',\n",
              " 'Salina Island',\n",
              " 'Toronto',\n",
              " 'Pyeongchang']"
            ]
          },
          "metadata": {},
          "execution_count": 51
        }
      ],
      "source": [
        "['Solta', 'Greenville', 'Buenos Aires', 'Los Cabos', 'Walla Walla Valley', 'Marakesh', 'Albuquerque', 'Archipelago Sea', 'Iguazu Falls', 'Salina Island', 'Toronto', 'Pyeongchang']"
      ]
    },
    {
      "cell_type": "markdown",
      "metadata": {
        "id": "_TVUc6roPUdU"
      },
      "source": [
        "We indicate that we are initializing a `list` with an opening bracket, `[`, and we end the list with a closing bracket `]`. We separate each list item, also called an element, with a comma."
      ]
    },
    {
      "cell_type": "code",
      "execution_count": 52,
      "metadata": {
        "id": "rEhpXcuLPUdU",
        "outputId": "d0c3b744-8ed9-4fab-8fd9-4c6b408681a8",
        "colab": {
          "base_uri": "https://localhost:8080/"
        }
      },
      "outputs": [
        {
          "output_type": "execute_result",
          "data": {
            "text/plain": [
              "['Croatia',\n",
              " 'USA',\n",
              " 'Argentina',\n",
              " 'Mexico',\n",
              " 'USA',\n",
              " 'Morocco',\n",
              " 'New Mexico',\n",
              " 'Finland',\n",
              " 'Argentina',\n",
              " 'Italy',\n",
              " 'Canada',\n",
              " 'South Korea']"
            ]
          },
          "metadata": {},
          "execution_count": 52
        }
      ],
      "source": [
        "['Croatia', 'USA', 'Argentina', 'Mexico', 'USA', 'Morocco', 'New Mexico', 'Finland', 'Argentina', 'Italy', 'Canada', 'South Korea']"
      ]
    },
    {
      "cell_type": "markdown",
      "metadata": {
        "id": "kjrT1z2vPUdU"
      },
      "source": [
        "We can, of course, assign lists to variables and later retrieve the elements of lists using the variable names."
      ]
    },
    {
      "cell_type": "code",
      "execution_count": 53,
      "metadata": {
        "id": "9Ozm2VZRPUdU"
      },
      "outputs": [],
      "source": [
        "top_travel_cities = ['Solta', 'Greenville', 'Buenos Aires', 'Los Cabos', 'Walla Walla Valley', 'Marakesh', 'Albuquerque', 'Archipelago Sea', 'Iguazu Falls', 'Salina Island', 'Toronto', 'Pyeongchang']"
      ]
    },
    {
      "cell_type": "code",
      "execution_count": 54,
      "metadata": {
        "id": "2KBtSVKrPUdU",
        "outputId": "3f4a37b3-2dcb-4829-a03f-6f17149f8a47",
        "colab": {
          "base_uri": "https://localhost:8080/"
        }
      },
      "outputs": [
        {
          "output_type": "execute_result",
          "data": {
            "text/plain": [
              "['Solta',\n",
              " 'Greenville',\n",
              " 'Buenos Aires',\n",
              " 'Los Cabos',\n",
              " 'Walla Walla Valley',\n",
              " 'Marakesh',\n",
              " 'Albuquerque',\n",
              " 'Archipelago Sea',\n",
              " 'Iguazu Falls',\n",
              " 'Salina Island',\n",
              " 'Toronto',\n",
              " 'Pyeongchang']"
            ]
          },
          "metadata": {},
          "execution_count": 54
        }
      ],
      "source": [
        "top_travel_cities"
      ]
    },
    {
      "cell_type": "code",
      "execution_count": 55,
      "metadata": {
        "id": "Xk6lbddKPUdV"
      },
      "outputs": [],
      "source": [
        "countries_of_top_cities = ['Croatia', 'USA', 'Argentina', 'Mexico', 'USA', 'Morocco', 'New Mexico', 'Finland', 'Argentina', 'Italy', 'Canada', 'South Korea']"
      ]
    },
    {
      "cell_type": "markdown",
      "metadata": {
        "id": "5to_nqxsPUdV"
      },
      "source": [
        "## Accessing Elements of Lists\n",
        "\n",
        "Now our `top_travel_cities` list contains multiple elements, and just like we are used to list elements having a rank or number associated with them...\n",
        "\n",
        "1. Solta\n",
        "2. Greenville\n",
        "3. Buenos Aires\n",
        "\n",
        "...a list in Python also assigns a number to each element."
      ]
    },
    {
      "cell_type": "code",
      "execution_count": 56,
      "metadata": {
        "id": "nZKBdUTsPUdV",
        "outputId": "df1b53c9-dc5d-42f9-9968-cba1ab48c069",
        "colab": {
          "base_uri": "https://localhost:8080/"
        }
      },
      "outputs": [
        {
          "output_type": "execute_result",
          "data": {
            "text/plain": [
              "['Solta',\n",
              " 'Greenville',\n",
              " 'Buenos Aires',\n",
              " 'Los Cabos',\n",
              " 'Walla Walla Valley',\n",
              " 'Marakesh',\n",
              " 'Albuquerque',\n",
              " 'Archipelago Sea',\n",
              " 'Iguazu Falls',\n",
              " 'Salina Island',\n",
              " 'Toronto',\n",
              " 'Pyeongchang']"
            ]
          },
          "metadata": {},
          "execution_count": 56
        }
      ],
      "source": [
        "top_travel_cities"
      ]
    },
    {
      "cell_type": "code",
      "execution_count": 57,
      "metadata": {
        "id": "9pvho7a7PUdV",
        "outputId": "5437fe80-dabd-4f34-b127-dbe84704e5e9",
        "colab": {
          "base_uri": "https://localhost:8080/",
          "height": 35
        }
      },
      "outputs": [
        {
          "output_type": "execute_result",
          "data": {
            "text/plain": [
              "'Solta'"
            ],
            "application/vnd.google.colaboratory.intrinsic+json": {
              "type": "string"
            }
          },
          "metadata": {},
          "execution_count": 57
        }
      ],
      "source": [
        "top_travel_cities[0]"
      ]
    },
    {
      "cell_type": "markdown",
      "metadata": {
        "id": "2AX99eTEPUdV"
      },
      "source": [
        "In the above line we are referencing a list and then using the brackets to access a specific element of our list, the first element.  We access elements in a list with the `index`, and there is a separate index for each element in the list.  It begins at the number **zero** (not the number 1 as you might expect). Like many modern programming languages , Python uses a \"zero-indexed\" numbering scheme for collections like lists. The value then increases by 1 for every element thereafter.\n",
        "\n",
        "So to access the second element we write `top_travel_cities[1]`, and the third element is `top_travel_cities[2]`."
      ]
    },
    {
      "cell_type": "code",
      "execution_count": 58,
      "metadata": {
        "id": "Q07c5BDoPUdV",
        "outputId": "e82916e3-5c2b-4d5b-9149-c8c150ea1fe5",
        "colab": {
          "base_uri": "https://localhost:8080/",
          "height": 35
        }
      },
      "outputs": [
        {
          "output_type": "execute_result",
          "data": {
            "text/plain": [
              "'Buenos Aires'"
            ],
            "application/vnd.google.colaboratory.intrinsic+json": {
              "type": "string"
            }
          },
          "metadata": {},
          "execution_count": 58
        }
      ],
      "source": [
        "top_travel_cities[2]"
      ]
    },
    {
      "cell_type": "markdown",
      "metadata": {
        "id": "1cE71ewMPUdW"
      },
      "source": [
        "How would we access the last element?  Well, we could count all of the elements in the list, and `Pyeongchang` would just be one less than that. Or we can ask Python to start from the end and move back one:"
      ]
    },
    {
      "cell_type": "code",
      "execution_count": 59,
      "metadata": {
        "id": "eEPsMRccPUdW",
        "outputId": "fb0a9058-ce5b-4f16-d337-4f7f9458b1ca",
        "colab": {
          "base_uri": "https://localhost:8080/",
          "height": 35
        }
      },
      "outputs": [
        {
          "output_type": "execute_result",
          "data": {
            "text/plain": [
              "'Pyeongchang'"
            ],
            "application/vnd.google.colaboratory.intrinsic+json": {
              "type": "string"
            }
          },
          "metadata": {},
          "execution_count": 59
        }
      ],
      "source": [
        "top_travel_cities[-1]"
      ]
    },
    {
      "cell_type": "markdown",
      "metadata": {
        "id": "w02l2eaEPUdW"
      },
      "source": [
        "And we can move back as many as we want."
      ]
    },
    {
      "cell_type": "code",
      "execution_count": 60,
      "metadata": {
        "id": "WZu14KzZPUdW",
        "outputId": "1114a241-bceb-45a5-c35f-f1d9806257bb",
        "colab": {
          "base_uri": "https://localhost:8080/",
          "height": 35
        }
      },
      "outputs": [
        {
          "output_type": "execute_result",
          "data": {
            "text/plain": [
              "'Toronto'"
            ],
            "application/vnd.google.colaboratory.intrinsic+json": {
              "type": "string"
            }
          },
          "metadata": {},
          "execution_count": 60
        }
      ],
      "source": [
        "top_travel_cities[-2]"
      ]
    },
    {
      "cell_type": "markdown",
      "metadata": {
        "id": "q14FxUi6PUdW"
      },
      "source": [
        "Each element in our list is a string, so, we can always set an element of our string equal to a variable."
      ]
    },
    {
      "cell_type": "code",
      "execution_count": 61,
      "metadata": {
        "id": "WPZDn0eDPUdW",
        "outputId": "b4b1eded-3981-4e73-af0e-8df158228d4b",
        "colab": {
          "base_uri": "https://localhost:8080/",
          "height": 35
        }
      },
      "outputs": [
        {
          "output_type": "execute_result",
          "data": {
            "text/plain": [
              "'Toronto'"
            ],
            "application/vnd.google.colaboratory.intrinsic+json": {
              "type": "string"
            }
          },
          "metadata": {},
          "execution_count": 61
        }
      ],
      "source": [
        "top_canadian_city = top_travel_cities[-2]\n",
        "top_canadian_city"
      ]
    },
    {
      "cell_type": "code",
      "execution_count": 62,
      "metadata": {
        "id": "XTozVounPUdW",
        "outputId": "44883c1e-9f3f-48ba-e5cd-877c551d783c",
        "colab": {
          "base_uri": "https://localhost:8080/"
        }
      },
      "outputs": [
        {
          "output_type": "execute_result",
          "data": {
            "text/plain": [
              "str"
            ]
          },
          "metadata": {},
          "execution_count": 62
        }
      ],
      "source": [
        "type(top_canadian_city)"
      ]
    },
    {
      "cell_type": "markdown",
      "metadata": {
        "id": "EUzmcVVPPUdW"
      },
      "source": [
        "Now we have a variable of `top_canadian_city`, equal to the string 'Toronto', and a variable of `top_travel_cities` equal to the list of cities.  "
      ]
    },
    {
      "cell_type": "code",
      "execution_count": 63,
      "metadata": {
        "id": "tAg-g5SoPUdW",
        "outputId": "555485b8-a768-42fa-bbac-683625335fc6",
        "colab": {
          "base_uri": "https://localhost:8080/"
        }
      },
      "outputs": [
        {
          "output_type": "execute_result",
          "data": {
            "text/plain": [
              "['Solta',\n",
              " 'Greenville',\n",
              " 'Buenos Aires',\n",
              " 'Los Cabos',\n",
              " 'Walla Walla Valley',\n",
              " 'Marakesh',\n",
              " 'Albuquerque',\n",
              " 'Archipelago Sea',\n",
              " 'Iguazu Falls',\n",
              " 'Salina Island',\n",
              " 'Toronto',\n",
              " 'Pyeongchang']"
            ]
          },
          "metadata": {},
          "execution_count": 63
        }
      ],
      "source": [
        "top_travel_cities"
      ]
    },
    {
      "cell_type": "code",
      "execution_count": 64,
      "metadata": {
        "id": "kyEUwuMSPUdW",
        "outputId": "dfa2af6a-68e7-43a4-ed89-a49566423d11",
        "colab": {
          "base_uri": "https://localhost:8080/"
        }
      },
      "outputs": [
        {
          "output_type": "execute_result",
          "data": {
            "text/plain": [
              "list"
            ]
          },
          "metadata": {},
          "execution_count": 64
        }
      ],
      "source": [
        "type(top_travel_cities)"
      ]
    },
    {
      "cell_type": "markdown",
      "metadata": {
        "id": "CD3ze1wBPUdX"
      },
      "source": [
        "## Accessing Multiple Elements\n",
        "\n",
        "Now imagine that we don't want to access just one element of a list, but multiple elements at once.  Python allows us to do that as well:"
      ]
    },
    {
      "cell_type": "code",
      "execution_count": 65,
      "metadata": {
        "id": "KuOzPNWTPUdX",
        "outputId": "2c127741-8608-44c2-c611-8afa9e29beda",
        "colab": {
          "base_uri": "https://localhost:8080/"
        }
      },
      "outputs": [
        {
          "output_type": "execute_result",
          "data": {
            "text/plain": [
              "['Solta', 'Greenville']"
            ]
          },
          "metadata": {},
          "execution_count": 65
        }
      ],
      "source": [
        "top_travel_cities[0:2]"
      ]
    },
    {
      "cell_type": "markdown",
      "metadata": {
        "id": "4-cDcd7XPUdX"
      },
      "source": [
        "As we can see from the above example, we can access elements of a list by placing two numbers separated by a colon inside of our brackets. The first number indicates the index of the first element we wish to retrieve.  \n",
        "\n",
        "The second number could represent the number of elements we want to retrieve, or maybe it represents the stopping index of the elements that we are retrieving. Looking at our `top_travel_cities` it could be either."
      ]
    },
    {
      "cell_type": "code",
      "execution_count": 66,
      "metadata": {
        "id": "yYAw8S_-PUdX",
        "outputId": "8456abd9-9c4d-4151-bbbe-8801bb4d60ca",
        "colab": {
          "base_uri": "https://localhost:8080/"
        }
      },
      "outputs": [
        {
          "output_type": "execute_result",
          "data": {
            "text/plain": [
              "['Solta',\n",
              " 'Greenville',\n",
              " 'Buenos Aires',\n",
              " 'Los Cabos',\n",
              " 'Walla Walla Valley',\n",
              " 'Marakesh',\n",
              " 'Albuquerque',\n",
              " 'Archipelago Sea',\n",
              " 'Iguazu Falls',\n",
              " 'Salina Island',\n",
              " 'Toronto',\n",
              " 'Pyeongchang']"
            ]
          },
          "metadata": {},
          "execution_count": 66
        }
      ],
      "source": [
        "top_travel_cities"
      ]
    },
    {
      "cell_type": "markdown",
      "metadata": {
        "id": "dqc_2ReGPUdX"
      },
      "source": [
        "Let's try a different experiment to answer our question."
      ]
    },
    {
      "cell_type": "code",
      "execution_count": 67,
      "metadata": {
        "id": "LKFvBk4OPUdX",
        "outputId": "b724d9aa-0f36-47ce-e90a-9b1ac97475a5",
        "colab": {
          "base_uri": "https://localhost:8080/"
        }
      },
      "outputs": [
        {
          "output_type": "execute_result",
          "data": {
            "text/plain": [
              "['Walla Walla Valley']"
            ]
          },
          "metadata": {},
          "execution_count": 67
        }
      ],
      "source": [
        "top_travel_cities[4:5]"
      ]
    },
    {
      "cell_type": "markdown",
      "metadata": {
        "id": "3jAayrjwPUdX"
      },
      "source": [
        "Ok, so that second number is not representing the number of elements we want retrieved. Instead it must be the index at which we stop our selection of elements."
      ]
    },
    {
      "cell_type": "code",
      "execution_count": 68,
      "metadata": {
        "id": "EpaBdpeiPUdX",
        "outputId": "aaf458a1-f3e1-40fb-df27-7696a564d03c",
        "colab": {
          "base_uri": "https://localhost:8080/"
        }
      },
      "outputs": [
        {
          "output_type": "execute_result",
          "data": {
            "text/plain": [
              "['Walla Walla Valley', 'Marakesh']"
            ]
          },
          "metadata": {},
          "execution_count": 68
        }
      ],
      "source": [
        "top_travel_cities[4:6]"
      ]
    },
    {
      "cell_type": "markdown",
      "metadata": {
        "id": "1EGF9cx3PUdX"
      },
      "source": [
        "This operation is called `slice`.  So, we can say we are `slicing` the elements with indices 4 and 5 in the line above.  Note that even though we are `slicing` elements, our list remains intact."
      ]
    },
    {
      "cell_type": "code",
      "execution_count": 69,
      "metadata": {
        "id": "mR8k07zFPUdX",
        "outputId": "edb0c0bb-8485-42e5-84e9-ee8f2a655771",
        "colab": {
          "base_uri": "https://localhost:8080/"
        }
      },
      "outputs": [
        {
          "output_type": "execute_result",
          "data": {
            "text/plain": [
              "['Solta',\n",
              " 'Greenville',\n",
              " 'Buenos Aires',\n",
              " 'Los Cabos',\n",
              " 'Walla Walla Valley',\n",
              " 'Marakesh',\n",
              " 'Albuquerque',\n",
              " 'Archipelago Sea',\n",
              " 'Iguazu Falls',\n",
              " 'Salina Island',\n",
              " 'Toronto',\n",
              " 'Pyeongchang']"
            ]
          },
          "metadata": {},
          "execution_count": 69
        }
      ],
      "source": [
        "top_travel_cities"
      ]
    },
    {
      "cell_type": "markdown",
      "metadata": {
        "id": "yoler5gzPUdX"
      },
      "source": [
        "In programming terms, we would say that slicing elements is non-destructive, because it does not change the underlying data structure.  We can do it as many times as we like, and our `top_travel_cities` array remains unchanged.  If we wish to store that slice of elements, we can store it in another variable."
      ]
    },
    {
      "cell_type": "code",
      "execution_count": 70,
      "metadata": {
        "id": "bojPwqxxPUdX",
        "outputId": "f11911d5-cdc7-4fc1-bfac-cbf09312e93d",
        "colab": {
          "base_uri": "https://localhost:8080/"
        }
      },
      "outputs": [
        {
          "output_type": "execute_result",
          "data": {
            "text/plain": [
              "['Solta', 'Greenville']"
            ]
          },
          "metadata": {},
          "execution_count": 70
        }
      ],
      "source": [
        "top_two = top_travel_cities[0:2]\n",
        "top_two"
      ]
    },
    {
      "cell_type": "markdown",
      "metadata": {
        "id": "vnZ6V0gzPUdX"
      },
      "source": [
        "Now we have another variable called `top_two` that points to an array which contains an array of elements equal to the first two elements of `top_travel_cities`.\n",
        "\n",
        "## Changing elements with destructive methods\n",
        "\n",
        "Now that we can read and select certain elements from lists, let's work on changing these lists. To add a new element to a list, we can use the `append` method."
      ]
    },
    {
      "cell_type": "code",
      "execution_count": 71,
      "metadata": {
        "id": "fDQ5fGpZPUdX"
      },
      "outputs": [],
      "source": [
        "top_travel_cities.append('San Antonio')"
      ]
    },
    {
      "cell_type": "markdown",
      "metadata": {
        "id": "Azt3y5YYPUdY"
      },
      "source": [
        "Now let's take another look at `top_travel_cities`."
      ]
    },
    {
      "cell_type": "code",
      "execution_count": 72,
      "metadata": {
        "id": "CkVyt4iCPUdY",
        "outputId": "c6a1a8fa-0a44-4c80-e310-6f4e98cb4941",
        "colab": {
          "base_uri": "https://localhost:8080/"
        }
      },
      "outputs": [
        {
          "output_type": "execute_result",
          "data": {
            "text/plain": [
              "['Solta',\n",
              " 'Greenville',\n",
              " 'Buenos Aires',\n",
              " 'Los Cabos',\n",
              " 'Walla Walla Valley',\n",
              " 'Marakesh',\n",
              " 'Albuquerque',\n",
              " 'Archipelago Sea',\n",
              " 'Iguazu Falls',\n",
              " 'Salina Island',\n",
              " 'Toronto',\n",
              " 'Pyeongchang',\n",
              " 'San Antonio']"
            ]
          },
          "metadata": {},
          "execution_count": 72
        }
      ],
      "source": [
        "top_travel_cities"
      ]
    },
    {
      "cell_type": "markdown",
      "metadata": {
        "id": "J3cRJRWZPUdY"
      },
      "source": [
        "You will see that 'San Antonio' has been added to the list.  Note that unlike slice, `append` is destructive.  That is, it changes our underlying data structure.  Every time we execute the `append` method, another element is added to our list.   Now what if we accidentally add 'San Antonio' a second time to our list."
      ]
    },
    {
      "cell_type": "code",
      "execution_count": 73,
      "metadata": {
        "id": "5JuT0lhwPUdY",
        "outputId": "7f0f6150-675c-4f0f-f37f-a3023d3e4f0d",
        "colab": {
          "base_uri": "https://localhost:8080/"
        }
      },
      "outputs": [
        {
          "output_type": "execute_result",
          "data": {
            "text/plain": [
              "['Solta',\n",
              " 'Greenville',\n",
              " 'Buenos Aires',\n",
              " 'Los Cabos',\n",
              " 'Walla Walla Valley',\n",
              " 'Marakesh',\n",
              " 'Albuquerque',\n",
              " 'Archipelago Sea',\n",
              " 'Iguazu Falls',\n",
              " 'Salina Island',\n",
              " 'Toronto',\n",
              " 'Pyeongchang',\n",
              " 'San Antonio',\n",
              " 'San Antonio']"
            ]
          },
          "metadata": {},
          "execution_count": 73
        }
      ],
      "source": [
        "top_travel_cities.append('San Antonio')\n",
        "top_travel_cities"
      ]
    },
    {
      "cell_type": "markdown",
      "metadata": {
        "id": "1X3ui0zRPUdY"
      },
      "source": [
        "If you press shift+enter on the above line of code, we will have `'San Antonio'` as the last two elements of the list.  Luckily, we have the `pop` method to remove one of them.  The `pop` method is available to call on any list and removes the last element from the list. As you can see below, calling `pop` removed our last element."
      ]
    },
    {
      "cell_type": "code",
      "execution_count": 74,
      "metadata": {
        "id": "b6Eq3MQDPUdZ",
        "outputId": "f38fe19f-9360-4baa-bcdd-284e74660b78",
        "colab": {
          "base_uri": "https://localhost:8080/",
          "height": 35
        }
      },
      "outputs": [
        {
          "output_type": "execute_result",
          "data": {
            "text/plain": [
              "'San Antonio'"
            ],
            "application/vnd.google.colaboratory.intrinsic+json": {
              "type": "string"
            }
          },
          "metadata": {},
          "execution_count": 74
        }
      ],
      "source": [
        "top_travel_cities.pop()"
      ]
    },
    {
      "cell_type": "markdown",
      "metadata": {
        "id": "B6KaFywLPUdZ"
      },
      "source": [
        "Now if we want to change an element from the middle of the list, we can access and then reassign that element. For example, let's change 'Walla Walla Valley' to the number 5."
      ]
    },
    {
      "cell_type": "code",
      "execution_count": 75,
      "metadata": {
        "id": "qeZ1Ky_9PUdZ",
        "outputId": "bd553833-1cbc-4b01-c4d8-ff85416b34a2",
        "colab": {
          "base_uri": "https://localhost:8080/",
          "height": 35
        }
      },
      "outputs": [
        {
          "output_type": "execute_result",
          "data": {
            "text/plain": [
              "'Walla Walla Valley'"
            ],
            "application/vnd.google.colaboratory.intrinsic+json": {
              "type": "string"
            }
          },
          "metadata": {},
          "execution_count": 75
        }
      ],
      "source": [
        "top_travel_cities[4]"
      ]
    },
    {
      "cell_type": "code",
      "execution_count": 76,
      "metadata": {
        "id": "-8HJ8Q8OPUdZ"
      },
      "outputs": [],
      "source": [
        "top_travel_cities[4] = 5"
      ]
    },
    {
      "cell_type": "code",
      "execution_count": 77,
      "metadata": {
        "id": "tEcez3D9PUdZ",
        "outputId": "3d1f1047-42ff-477e-b3f8-cc342c57627e",
        "colab": {
          "base_uri": "https://localhost:8080/"
        }
      },
      "outputs": [
        {
          "output_type": "execute_result",
          "data": {
            "text/plain": [
              "['Solta',\n",
              " 'Greenville',\n",
              " 'Buenos Aires',\n",
              " 'Los Cabos',\n",
              " 5,\n",
              " 'Marakesh',\n",
              " 'Albuquerque',\n",
              " 'Archipelago Sea',\n",
              " 'Iguazu Falls',\n",
              " 'Salina Island',\n",
              " 'Toronto',\n",
              " 'Pyeongchang',\n",
              " 'San Antonio']"
            ]
          },
          "metadata": {},
          "execution_count": 77
        }
      ],
      "source": [
        "top_travel_cities"
      ]
    },
    {
      "cell_type": "markdown",
      "metadata": {
        "id": "RxwMYq_vPUdZ"
      },
      "source": [
        "Our list is changed, but now it's not as sensible, so let's change it back."
      ]
    },
    {
      "cell_type": "code",
      "execution_count": 78,
      "metadata": {
        "id": "mdUQOmZbPUdZ"
      },
      "outputs": [],
      "source": [
        "top_travel_cities[4] = 'Walla Walla Valley'"
      ]
    },
    {
      "cell_type": "markdown",
      "metadata": {
        "id": "fCxz9Ut7PUdZ"
      },
      "source": [
        "With that, our list is back to the way we like it."
      ]
    },
    {
      "cell_type": "code",
      "execution_count": 79,
      "metadata": {
        "id": "ySQcAGGkPUdZ",
        "outputId": "0a45a690-41b1-4f73-c960-d5892cb99f21",
        "colab": {
          "base_uri": "https://localhost:8080/"
        }
      },
      "outputs": [
        {
          "output_type": "execute_result",
          "data": {
            "text/plain": [
              "['Solta',\n",
              " 'Greenville',\n",
              " 'Buenos Aires',\n",
              " 'Los Cabos',\n",
              " 'Walla Walla Valley',\n",
              " 'Marakesh',\n",
              " 'Albuquerque',\n",
              " 'Archipelago Sea',\n",
              " 'Iguazu Falls',\n",
              " 'Salina Island',\n",
              " 'Toronto',\n",
              " 'Pyeongchang',\n",
              " 'San Antonio']"
            ]
          },
          "metadata": {},
          "execution_count": 79
        }
      ],
      "source": [
        "top_travel_cities"
      ]
    },
    {
      "cell_type": "markdown",
      "metadata": {
        "id": "2VrubDC4PUdZ"
      },
      "source": [
        "## Finding Unique elements and length of lists\n",
        "\n",
        "If we are not sure whether there are repeated elements, we can use Python to get a unique list."
      ]
    },
    {
      "cell_type": "code",
      "execution_count": 80,
      "metadata": {
        "id": "_WxTTxKiPUdZ",
        "outputId": "526acdf1-5648-4ef4-b952-8c53fad1525d",
        "colab": {
          "base_uri": "https://localhost:8080/"
        }
      },
      "outputs": [
        {
          "output_type": "execute_result",
          "data": {
            "text/plain": [
              "['Solta',\n",
              " 'Greenville',\n",
              " 'Buenos Aires',\n",
              " 'Los Cabos',\n",
              " 'Walla Walla Valley',\n",
              " 'Marakesh',\n",
              " 'Albuquerque',\n",
              " 'Archipelago Sea',\n",
              " 'Iguazu Falls',\n",
              " 'Salina Island',\n",
              " 'Toronto',\n",
              " 'Pyeongchang',\n",
              " 'San Antonio',\n",
              " 'Solta']"
            ]
          },
          "metadata": {},
          "execution_count": 80
        }
      ],
      "source": [
        "top_travel_cities.append('Solta')\n",
        "top_travel_cities"
      ]
    },
    {
      "cell_type": "markdown",
      "metadata": {
        "id": "qLg_uSR2PUdZ"
      },
      "source": [
        "For example, now that we have added Solta to the end of our list, Solta appears twice.\n",
        "\n",
        "Well to see a unique list of the elements, we can call the `set` function. A set is a different type collection in Python.\n",
        "A set is just like a list, except elements do not have order and each element appears just once."
      ]
    },
    {
      "cell_type": "code",
      "execution_count": 81,
      "metadata": {
        "id": "mT75AbtDPUdZ",
        "outputId": "c0e18c79-fce4-43ba-e14e-0811b4657015",
        "colab": {
          "base_uri": "https://localhost:8080/"
        }
      },
      "outputs": [
        {
          "output_type": "execute_result",
          "data": {
            "text/plain": [
              "{'Albuquerque',\n",
              " 'Archipelago Sea',\n",
              " 'Buenos Aires',\n",
              " 'Greenville',\n",
              " 'Iguazu Falls',\n",
              " 'Los Cabos',\n",
              " 'Marakesh',\n",
              " 'Pyeongchang',\n",
              " 'Salina Island',\n",
              " 'San Antonio',\n",
              " 'Solta',\n",
              " 'Toronto',\n",
              " 'Walla Walla Valley'}"
            ]
          },
          "metadata": {},
          "execution_count": 81
        }
      ],
      "source": [
        "unique_travel_cities = set(top_travel_cities)\n",
        "unique_travel_cities"
      ]
    },
    {
      "cell_type": "markdown",
      "metadata": {
        "id": "ppQcJPSePUda"
      },
      "source": [
        "The `set` function is non-destructive on our list."
      ]
    },
    {
      "cell_type": "code",
      "execution_count": 82,
      "metadata": {
        "id": "261p8MGKPUda",
        "outputId": "c84bcb0b-0439-479e-ba34-89edd9e73eb3",
        "colab": {
          "base_uri": "https://localhost:8080/"
        }
      },
      "outputs": [
        {
          "output_type": "execute_result",
          "data": {
            "text/plain": [
              "['Solta',\n",
              " 'Greenville',\n",
              " 'Buenos Aires',\n",
              " 'Los Cabos',\n",
              " 'Walla Walla Valley',\n",
              " 'Marakesh',\n",
              " 'Albuquerque',\n",
              " 'Archipelago Sea',\n",
              " 'Iguazu Falls',\n",
              " 'Salina Island',\n",
              " 'Toronto',\n",
              " 'Pyeongchang',\n",
              " 'San Antonio',\n",
              " 'Solta']"
            ]
          },
          "metadata": {},
          "execution_count": 82
        }
      ],
      "source": [
        "top_travel_cities"
      ]
    },
    {
      "cell_type": "markdown",
      "metadata": {
        "id": "m2R9RZlcPUda"
      },
      "source": [
        " So here, when we convert our list into a set, our set just consists of the unique elements.  But unfortunately this structure is a set, not a list."
      ]
    },
    {
      "cell_type": "code",
      "execution_count": 83,
      "metadata": {
        "id": "GjRq6Qm8PUda",
        "outputId": "8d4da552-7050-468f-e91c-e4e747105413",
        "colab": {
          "base_uri": "https://localhost:8080/"
        }
      },
      "outputs": [
        {
          "output_type": "execute_result",
          "data": {
            "text/plain": [
              "set"
            ]
          },
          "metadata": {},
          "execution_count": 83
        }
      ],
      "source": [
        "type(unique_travel_cities)"
      ]
    },
    {
      "cell_type": "markdown",
      "metadata": {
        "id": "L34IbDrNPUda"
      },
      "source": [
        "So let's convert this set, which has a unique list of our travel cities, into a list."
      ]
    },
    {
      "cell_type": "code",
      "execution_count": 84,
      "metadata": {
        "id": "7OJMgeHLPUda"
      },
      "outputs": [],
      "source": [
        "unique_travel_cities = list(unique_travel_cities)"
      ]
    },
    {
      "cell_type": "code",
      "execution_count": 85,
      "metadata": {
        "id": "V3EqADHCPUda",
        "outputId": "2b48c0e0-23c4-4217-817a-1a7f3e03a269",
        "colab": {
          "base_uri": "https://localhost:8080/"
        }
      },
      "outputs": [
        {
          "output_type": "execute_result",
          "data": {
            "text/plain": [
              "list"
            ]
          },
          "metadata": {},
          "execution_count": 85
        }
      ],
      "source": [
        "type(unique_travel_cities)"
      ]
    },
    {
      "cell_type": "markdown",
      "metadata": {
        "id": "mu7_RIrLPUda"
      },
      "source": [
        "So the array of `unique_travel_cities` is now a unique list."
      ]
    },
    {
      "cell_type": "code",
      "execution_count": 86,
      "metadata": {
        "id": "NPB9Ft2NPUda",
        "outputId": "861f9b9a-25c6-4c9b-977d-eb9a4c48ac83",
        "colab": {
          "base_uri": "https://localhost:8080/"
        }
      },
      "outputs": [
        {
          "output_type": "execute_result",
          "data": {
            "text/plain": [
              "['Los Cabos',\n",
              " 'Walla Walla Valley',\n",
              " 'Iguazu Falls',\n",
              " 'Pyeongchang',\n",
              " 'Archipelago Sea',\n",
              " 'Solta',\n",
              " 'Albuquerque',\n",
              " 'Toronto',\n",
              " 'San Antonio',\n",
              " 'Marakesh',\n",
              " 'Greenville',\n",
              " 'Salina Island',\n",
              " 'Buenos Aires']"
            ]
          },
          "metadata": {},
          "execution_count": 86
        }
      ],
      "source": [
        "unique_travel_cities"
      ]
    },
    {
      "cell_type": "markdown",
      "metadata": {
        "id": "RD7aMBXuPUda"
      },
      "source": [
        "And you can see quickly that it differs from the list of top travel cities by checking the length."
      ]
    },
    {
      "cell_type": "code",
      "execution_count": 87,
      "metadata": {
        "id": "wt5lCZBQPUda",
        "outputId": "ad281f45-ada2-4e07-c0f1-83daf41d3250",
        "colab": {
          "base_uri": "https://localhost:8080/"
        }
      },
      "outputs": [
        {
          "output_type": "execute_result",
          "data": {
            "text/plain": [
              "13"
            ]
          },
          "metadata": {},
          "execution_count": 87
        }
      ],
      "source": [
        "len(unique_travel_cities)"
      ]
    },
    {
      "cell_type": "code",
      "execution_count": 88,
      "metadata": {
        "id": "zuwD8F3CPUda",
        "outputId": "6768eeee-554b-4c99-fb7d-b25522dd2bee",
        "colab": {
          "base_uri": "https://localhost:8080/"
        }
      },
      "outputs": [
        {
          "output_type": "execute_result",
          "data": {
            "text/plain": [
              "14"
            ]
          },
          "metadata": {},
          "execution_count": 88
        }
      ],
      "source": [
        "len(top_travel_cities)"
      ]
    },
    {
      "cell_type": "markdown",
      "metadata": {
        "id": "iWWqCVmGPUdb"
      },
      "source": [
        "> **Note:** *For most purposes, Python developers prefer to work with `lists` as opposed to sets, as `lists` are generally easier to manipulate, as you will see in future lessons.*\n",
        "\n",
        "## Summary\n",
        "\n",
        "In this section we saw how to associate data together in a collection, called a list.  A list is similar to a list in the real world - it implies the data has some connection, and that it has an order to it.  We initialize a list with the brackets, `[]`, and separate each element by a comma.  To access elements from a list, we use the bracket accessor followed by the index of the element we want to retrieve, and our indices begin at zero and increase by 1 from there. To add a new element to the end of the list we use the `append` method, and to remove an element from the end of a list we use the `pop` method. We can change elements anywhere between by first accessing the elements and then reassigning them."
      ]
    }
  ],
  "metadata": {
    "kernelspec": {
      "display_name": "Python (learn-env)",
      "language": "python",
      "name": "learn-env"
    },
    "language_info": {
      "codemirror_mode": {
        "name": "ipython",
        "version": 3
      },
      "file_extension": ".py",
      "mimetype": "text/x-python",
      "name": "python",
      "nbconvert_exporter": "python",
      "pygments_lexer": "ipython3",
      "version": "3.8.5"
    },
    "colab": {
      "provenance": [],
      "include_colab_link": true
    }
  },
  "nbformat": 4,
  "nbformat_minor": 0
}